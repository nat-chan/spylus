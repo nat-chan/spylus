{
 "cells": [
  {
   "cell_type": "code",
   "execution_count": null,
   "metadata": {},
   "outputs": [],
   "source": [
    "from IPython.display import HTML, Javascript, display\n",
    "import ipywidgets as wi\n",
    "from PIL import Image\n",
    "from io import StringIO, BytesIO\n",
    "from base64 import b64encode, b64decode\n",
    "from pathlib import Path"
   ]
  },
  {
   "cell_type": "code",
   "execution_count": null,
   "metadata": {},
   "outputs": [],
   "source": [
    "width = 256\n",
    "height = 256\n",
    "\n",
    "ID = id(_)\n",
    "marker = wi.HTML(f'<div id=\"marker{ID}\"></div>')\n",
    "save_button = wi.Button(description=\"save\")\n",
    "canvas = wi.HTML(f\"\"\"\n",
    "<canvas\n",
    "    id=canvas{ID}\n",
    "    width={width}\n",
    "    height={height}\n",
    "    style=background:white;>\n",
    "</canvas>\n",
    "\"\"\")\n",
    "\n",
    "save_input = wi.Text(layout=wi.Layout(width=\"90%\"))\n",
    "app = wi.AppLayout(\n",
    "    center=wi.VBox((\n",
    "        marker,\n",
    "        save_input,\n",
    "        save_button,\n",
    "        canvas,\n",
    "    )),\n",
    ")\n",
    "display(app)\n",
    "Javascript(f\"\"\"\n",
    "{Path('spylus.js').read_text()}\n",
    "let app = new (Save(Canvas))({{\n",
    "    canvas: document.getElementById(\"canvas{ID}\"),\n",
    "    save_button: find_element('//div[@id=\"marker{ID}\"]/../../..//button', 0),\n",
    "    save_input: find_element('//div[@id=\"marker{ID}\"]/../../..//input', 0)\n",
    "}});\n",
    "\"\"\")"
   ]
  },
  {
   "cell_type": "code",
   "execution_count": null,
   "metadata": {},
   "outputs": [],
   "source": [
    "Image.open(BytesIO(b64decode(save_input.value.split(\",\")[-1])))"
   ]
  },
  {
   "cell_type": "code",
   "execution_count": null,
   "metadata": {},
   "outputs": [],
   "source": [
    "width = 256\n",
    "height = 256\n",
    "\n",
    "ID = id(_)\n",
    "marker = wi.HTML(f'<div id=\"marker{ID}\"></div>')\n",
    "paste_button = wi.Button(description=\"paste\")\n",
    "canvas = wi.HTML(f\"\"\"\n",
    "<canvas\n",
    "    id=canvas{ID}\n",
    "    width={width}\n",
    "    height={height}\n",
    "    style=background:white;>\n",
    "</canvas>\n",
    "\"\"\")\n",
    "\n",
    "app = wi.AppLayout(\n",
    "    center=wi.VBox((\n",
    "        marker,\n",
    "        paste_button,\n",
    "        canvas,\n",
    "    )),\n",
    ")\n",
    "display(app)\n",
    "Javascript(f\"\"\"\n",
    "{Path('spylus.js').read_text()}\n",
    "let app = new (Paste(Canvas))({{\n",
    "    canvas: document.getElementById(\"canvas{ID}\"),\n",
    "    paste_button: find_element('//div[@id=\"marker{ID}\"]/../../..//button', 0),\n",
    "}});\n",
    "\"\"\")"
   ]
  }
 ],
 "metadata": {
  "kernelspec": {
   "display_name": "base",
   "language": "python",
   "name": "base"
  },
  "language_info": {
   "codemirror_mode": {
    "name": "ipython",
    "version": 3
   },
   "file_extension": ".py",
   "mimetype": "text/x-python",
   "name": "python",
   "nbconvert_exporter": "python",
   "pygments_lexer": "ipython3",
   "version": "3.7.4"
  }
 },
 "nbformat": 4,
 "nbformat_minor": 4
}
